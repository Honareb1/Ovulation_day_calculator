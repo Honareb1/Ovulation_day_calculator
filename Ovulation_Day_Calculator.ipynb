{
 "cells": [
  {
   "cell_type": "markdown",
   "id": "4a4d1beb",
   "metadata": {},
   "source": [
    "### Bonsoir à tous !\n",
    "Je m'amuse à écrire ce programme pour aider celles qui ont de soucis à calculer leur jour d'ovulation. Bref, une amie a cette difficulté et moi j'ai pensé à écire des lignes de code..!\n",
    "\n",
    "*le programme prend en entrée la date du dernier jour du cycle menstruel et la durée moyenne du cycle et sort la date probable de la prochaine ovulation et la période fertile, toute chose étant égale par ailleurs...* "
   ]
  },
  {
   "cell_type": "code",
   "execution_count": 9,
   "id": "7e6c2f0c",
   "metadata": {},
   "outputs": [],
   "source": [
    "from datetime import datetime, timedelta"
   ]
  },
  {
   "cell_type": "code",
   "execution_count": 13,
   "id": "52e06ded",
   "metadata": {},
   "outputs": [
    {
     "name": "stdout",
     "output_type": "stream",
     "text": [
      "Entrez la date du dernier jour de votre cycle menstruel(Année-Mois-Jour) : 2024-4-20\n",
      "La durée moyenne de votre cycle : 30\n",
      "La date probable de votre prochaine ovulation est le 2024-05-06\n",
      "Votre période fertile va du 2024-05-01 au 2024-05-04\n"
     ]
    }
   ],
   "source": [
    "def Ovulation_day(dernier_jour, duree_moyenne):\n",
    "    dernier_jour = datetime.strptime(dernier_jour, \"%Y-%m-%d\")\n",
    "    ovulation_day = dernier_jour + timedelta(days = duree_moyenne - 14)\n",
    "    debut_dertilite  = ovulation_day - timedelta(5)\n",
    "    fin_fertilite = ovulation_day - timedelta(2)\n",
    "    return ovulation_day, debut_dertilite, fin_fertilite\n",
    "dernier_jour = input('Entrez la date du dernier jour de votre cycle menstruel(Année-Mois-Jour) : ')\n",
    "duree_moyenne = int(input('La durée moyenne de votre cycle : '))\n",
    "\n",
    "ovulation_day, debut_dertilite, fin_fertilite = Ovulation_day(dernier_jour, duree_moyenne)                                                                                                \n",
    "\n",
    "print(f\"La date probable de votre prochaine ovulation est le {datetime.strftime(ovulation_day, '%Y-%m-%d')}\")\n",
    "print(f\"Votre période fertile va du {datetime.strftime(debut_dertilite, '%Y-%m-%d')} au {datetime.strftime(fin_fertilite, '%Y-%m-%d')}\")\n"
   ]
  },
  {
   "cell_type": "code",
   "execution_count": null,
   "id": "333832ec",
   "metadata": {},
   "outputs": [],
   "source": []
  },
  {
   "cell_type": "code",
   "execution_count": null,
   "id": "57aa8d6c",
   "metadata": {},
   "outputs": [],
   "source": []
  },
  {
   "cell_type": "code",
   "execution_count": null,
   "id": "21cf3822",
   "metadata": {},
   "outputs": [],
   "source": []
  },
  {
   "cell_type": "code",
   "execution_count": null,
   "id": "69bb2252",
   "metadata": {},
   "outputs": [],
   "source": []
  },
  {
   "cell_type": "code",
   "execution_count": null,
   "id": "96bb5091",
   "metadata": {},
   "outputs": [],
   "source": []
  },
  {
   "cell_type": "code",
   "execution_count": null,
   "id": "89810959",
   "metadata": {},
   "outputs": [],
   "source": []
  },
  {
   "cell_type": "code",
   "execution_count": null,
   "id": "5ad99ed2",
   "metadata": {},
   "outputs": [],
   "source": []
  },
  {
   "cell_type": "code",
   "execution_count": null,
   "id": "ff0bd71f",
   "metadata": {},
   "outputs": [],
   "source": []
  }
 ],
 "metadata": {
  "kernelspec": {
   "display_name": "Python 3 (ipykernel)",
   "language": "python",
   "name": "python3"
  },
  "language_info": {
   "codemirror_mode": {
    "name": "ipython",
    "version": 3
   },
   "file_extension": ".py",
   "mimetype": "text/x-python",
   "name": "python",
   "nbconvert_exporter": "python",
   "pygments_lexer": "ipython3",
   "version": "3.11.7"
  }
 },
 "nbformat": 4,
 "nbformat_minor": 5
}
